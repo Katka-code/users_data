{
 "cells": [
  {
   "cell_type": "markdown",
   "id": "b0dda977-182d-41ce-b61e-177e20fff6b7",
   "metadata": {},
   "source": [
    "Задача прогнозирования стоимости бриллиантов (задача регрессии) с Kaggle"
   ]
  },
  {
   "cell_type": "code",
   "execution_count": 5,
   "id": "27f7f420-7791-4868-b8bf-f6d26de50374",
   "metadata": {},
   "outputs": [],
   "source": [
    "import pandas as ps\n",
    "import seaborn as sns\n",
    "import numpy as np"
   ]
  },
  {
   "cell_type": "code",
   "execution_count": 31,
   "id": "df0ef0cb-cbe9-4f6d-a63b-0c70fc49ef69",
   "metadata": {},
   "outputs": [],
   "source": [
    "diamonds_data = pd.read_csv('./diamonds.csv').reset_index()"
   ]
  },
  {
   "cell_type": "code",
   "execution_count": 32,
   "id": "d296ab9d-c8c1-4dd0-ae65-03a36467157a",
   "metadata": {},
   "outputs": [
    {
     "data": {
      "text/html": [
       "<div>\n",
       "<style scoped>\n",
       "    .dataframe tbody tr th:only-of-type {\n",
       "        vertical-align: middle;\n",
       "    }\n",
       "\n",
       "    .dataframe tbody tr th {\n",
       "        vertical-align: top;\n",
       "    }\n",
       "\n",
       "    .dataframe thead th {\n",
       "        text-align: right;\n",
       "    }\n",
       "</style>\n",
       "<table border=\"1\" class=\"dataframe\">\n",
       "  <thead>\n",
       "    <tr style=\"text-align: right;\">\n",
       "      <th></th>\n",
       "      <th>index</th>\n",
       "      <th>Unnamed: 0</th>\n",
       "      <th>carat</th>\n",
       "      <th>cut</th>\n",
       "      <th>color</th>\n",
       "      <th>clarity</th>\n",
       "      <th>depth</th>\n",
       "      <th>table</th>\n",
       "      <th>price</th>\n",
       "      <th>x</th>\n",
       "      <th>y</th>\n",
       "      <th>z</th>\n",
       "    </tr>\n",
       "  </thead>\n",
       "  <tbody>\n",
       "    <tr>\n",
       "      <th>0</th>\n",
       "      <td>0</td>\n",
       "      <td>1</td>\n",
       "      <td>0.23</td>\n",
       "      <td>Ideal</td>\n",
       "      <td>E</td>\n",
       "      <td>SI2</td>\n",
       "      <td>61.5</td>\n",
       "      <td>55.0</td>\n",
       "      <td>326</td>\n",
       "      <td>3.95</td>\n",
       "      <td>3.98</td>\n",
       "      <td>2.43</td>\n",
       "    </tr>\n",
       "    <tr>\n",
       "      <th>1</th>\n",
       "      <td>1</td>\n",
       "      <td>2</td>\n",
       "      <td>0.21</td>\n",
       "      <td>Premium</td>\n",
       "      <td>E</td>\n",
       "      <td>SI1</td>\n",
       "      <td>59.8</td>\n",
       "      <td>61.0</td>\n",
       "      <td>326</td>\n",
       "      <td>3.89</td>\n",
       "      <td>3.84</td>\n",
       "      <td>2.31</td>\n",
       "    </tr>\n",
       "    <tr>\n",
       "      <th>2</th>\n",
       "      <td>2</td>\n",
       "      <td>3</td>\n",
       "      <td>0.23</td>\n",
       "      <td>Good</td>\n",
       "      <td>E</td>\n",
       "      <td>VS1</td>\n",
       "      <td>56.9</td>\n",
       "      <td>65.0</td>\n",
       "      <td>327</td>\n",
       "      <td>4.05</td>\n",
       "      <td>4.07</td>\n",
       "      <td>2.31</td>\n",
       "    </tr>\n",
       "    <tr>\n",
       "      <th>3</th>\n",
       "      <td>3</td>\n",
       "      <td>4</td>\n",
       "      <td>0.29</td>\n",
       "      <td>Premium</td>\n",
       "      <td>I</td>\n",
       "      <td>VS2</td>\n",
       "      <td>62.4</td>\n",
       "      <td>58.0</td>\n",
       "      <td>334</td>\n",
       "      <td>4.20</td>\n",
       "      <td>4.23</td>\n",
       "      <td>2.63</td>\n",
       "    </tr>\n",
       "    <tr>\n",
       "      <th>4</th>\n",
       "      <td>4</td>\n",
       "      <td>5</td>\n",
       "      <td>0.31</td>\n",
       "      <td>Good</td>\n",
       "      <td>J</td>\n",
       "      <td>SI2</td>\n",
       "      <td>63.3</td>\n",
       "      <td>58.0</td>\n",
       "      <td>335</td>\n",
       "      <td>4.34</td>\n",
       "      <td>4.35</td>\n",
       "      <td>2.75</td>\n",
       "    </tr>\n",
       "  </tbody>\n",
       "</table>\n",
       "</div>"
      ],
      "text/plain": [
       "   index  Unnamed: 0  carat      cut color clarity  depth  table  price     x  \\\n",
       "0      0           1   0.23    Ideal     E     SI2   61.5   55.0    326  3.95   \n",
       "1      1           2   0.21  Premium     E     SI1   59.8   61.0    326  3.89   \n",
       "2      2           3   0.23     Good     E     VS1   56.9   65.0    327  4.05   \n",
       "3      3           4   0.29  Premium     I     VS2   62.4   58.0    334  4.20   \n",
       "4      4           5   0.31     Good     J     SI2   63.3   58.0    335  4.34   \n",
       "\n",
       "      y     z  \n",
       "0  3.98  2.43  \n",
       "1  3.84  2.31  \n",
       "2  4.07  2.31  \n",
       "3  4.23  2.63  \n",
       "4  4.35  2.75  "
      ]
     },
     "execution_count": 32,
     "metadata": {},
     "output_type": "execute_result"
    }
   ],
   "source": [
    "diamonds_data.head()"
   ]
  },
  {
   "cell_type": "code",
   "execution_count": 42,
   "id": "5685e99f-e5ea-4aee-820b-f68b3c2d2743",
   "metadata": {},
   "outputs": [
    {
     "data": {
      "text/html": [
       "<div>\n",
       "<style scoped>\n",
       "    .dataframe tbody tr th:only-of-type {\n",
       "        vertical-align: middle;\n",
       "    }\n",
       "\n",
       "    .dataframe tbody tr th {\n",
       "        vertical-align: top;\n",
       "    }\n",
       "\n",
       "    .dataframe thead th {\n",
       "        text-align: right;\n",
       "    }\n",
       "</style>\n",
       "<table border=\"1\" class=\"dataframe\">\n",
       "  <thead>\n",
       "    <tr style=\"text-align: right;\">\n",
       "      <th></th>\n",
       "      <th>carat</th>\n",
       "      <th>cut</th>\n",
       "      <th>color</th>\n",
       "      <th>clarity</th>\n",
       "      <th>depth</th>\n",
       "      <th>table</th>\n",
       "      <th>price</th>\n",
       "      <th>x</th>\n",
       "      <th>y</th>\n",
       "      <th>z</th>\n",
       "    </tr>\n",
       "  </thead>\n",
       "  <tbody>\n",
       "    <tr>\n",
       "      <th>0</th>\n",
       "      <td>0.23</td>\n",
       "      <td>Ideal</td>\n",
       "      <td>E</td>\n",
       "      <td>SI2</td>\n",
       "      <td>61.5</td>\n",
       "      <td>55.0</td>\n",
       "      <td>326</td>\n",
       "      <td>3.95</td>\n",
       "      <td>3.98</td>\n",
       "      <td>2.43</td>\n",
       "    </tr>\n",
       "    <tr>\n",
       "      <th>1</th>\n",
       "      <td>0.21</td>\n",
       "      <td>Premium</td>\n",
       "      <td>E</td>\n",
       "      <td>SI1</td>\n",
       "      <td>59.8</td>\n",
       "      <td>61.0</td>\n",
       "      <td>326</td>\n",
       "      <td>3.89</td>\n",
       "      <td>3.84</td>\n",
       "      <td>2.31</td>\n",
       "    </tr>\n",
       "    <tr>\n",
       "      <th>2</th>\n",
       "      <td>0.23</td>\n",
       "      <td>Good</td>\n",
       "      <td>E</td>\n",
       "      <td>VS1</td>\n",
       "      <td>56.9</td>\n",
       "      <td>65.0</td>\n",
       "      <td>327</td>\n",
       "      <td>4.05</td>\n",
       "      <td>4.07</td>\n",
       "      <td>2.31</td>\n",
       "    </tr>\n",
       "    <tr>\n",
       "      <th>3</th>\n",
       "      <td>0.29</td>\n",
       "      <td>Premium</td>\n",
       "      <td>I</td>\n",
       "      <td>VS2</td>\n",
       "      <td>62.4</td>\n",
       "      <td>58.0</td>\n",
       "      <td>334</td>\n",
       "      <td>4.20</td>\n",
       "      <td>4.23</td>\n",
       "      <td>2.63</td>\n",
       "    </tr>\n",
       "    <tr>\n",
       "      <th>4</th>\n",
       "      <td>0.31</td>\n",
       "      <td>Good</td>\n",
       "      <td>J</td>\n",
       "      <td>SI2</td>\n",
       "      <td>63.3</td>\n",
       "      <td>58.0</td>\n",
       "      <td>335</td>\n",
       "      <td>4.34</td>\n",
       "      <td>4.35</td>\n",
       "      <td>2.75</td>\n",
       "    </tr>\n",
       "    <tr>\n",
       "      <th>...</th>\n",
       "      <td>...</td>\n",
       "      <td>...</td>\n",
       "      <td>...</td>\n",
       "      <td>...</td>\n",
       "      <td>...</td>\n",
       "      <td>...</td>\n",
       "      <td>...</td>\n",
       "      <td>...</td>\n",
       "      <td>...</td>\n",
       "      <td>...</td>\n",
       "    </tr>\n",
       "    <tr>\n",
       "      <th>53935</th>\n",
       "      <td>0.72</td>\n",
       "      <td>Ideal</td>\n",
       "      <td>D</td>\n",
       "      <td>SI1</td>\n",
       "      <td>60.8</td>\n",
       "      <td>57.0</td>\n",
       "      <td>2757</td>\n",
       "      <td>5.75</td>\n",
       "      <td>5.76</td>\n",
       "      <td>3.50</td>\n",
       "    </tr>\n",
       "    <tr>\n",
       "      <th>53936</th>\n",
       "      <td>0.72</td>\n",
       "      <td>Good</td>\n",
       "      <td>D</td>\n",
       "      <td>SI1</td>\n",
       "      <td>63.1</td>\n",
       "      <td>55.0</td>\n",
       "      <td>2757</td>\n",
       "      <td>5.69</td>\n",
       "      <td>5.75</td>\n",
       "      <td>3.61</td>\n",
       "    </tr>\n",
       "    <tr>\n",
       "      <th>53937</th>\n",
       "      <td>0.70</td>\n",
       "      <td>Very Good</td>\n",
       "      <td>D</td>\n",
       "      <td>SI1</td>\n",
       "      <td>62.8</td>\n",
       "      <td>60.0</td>\n",
       "      <td>2757</td>\n",
       "      <td>5.66</td>\n",
       "      <td>5.68</td>\n",
       "      <td>3.56</td>\n",
       "    </tr>\n",
       "    <tr>\n",
       "      <th>53938</th>\n",
       "      <td>0.86</td>\n",
       "      <td>Premium</td>\n",
       "      <td>H</td>\n",
       "      <td>SI2</td>\n",
       "      <td>61.0</td>\n",
       "      <td>58.0</td>\n",
       "      <td>2757</td>\n",
       "      <td>6.15</td>\n",
       "      <td>6.12</td>\n",
       "      <td>3.74</td>\n",
       "    </tr>\n",
       "    <tr>\n",
       "      <th>53939</th>\n",
       "      <td>0.75</td>\n",
       "      <td>Ideal</td>\n",
       "      <td>D</td>\n",
       "      <td>SI2</td>\n",
       "      <td>62.2</td>\n",
       "      <td>55.0</td>\n",
       "      <td>2757</td>\n",
       "      <td>5.83</td>\n",
       "      <td>5.87</td>\n",
       "      <td>3.64</td>\n",
       "    </tr>\n",
       "  </tbody>\n",
       "</table>\n",
       "<p>53940 rows × 10 columns</p>\n",
       "</div>"
      ],
      "text/plain": [
       "       carat        cut color clarity  depth  table  price     x     y     z\n",
       "0       0.23      Ideal     E     SI2   61.5   55.0    326  3.95  3.98  2.43\n",
       "1       0.21    Premium     E     SI1   59.8   61.0    326  3.89  3.84  2.31\n",
       "2       0.23       Good     E     VS1   56.9   65.0    327  4.05  4.07  2.31\n",
       "3       0.29    Premium     I     VS2   62.4   58.0    334  4.20  4.23  2.63\n",
       "4       0.31       Good     J     SI2   63.3   58.0    335  4.34  4.35  2.75\n",
       "...      ...        ...   ...     ...    ...    ...    ...   ...   ...   ...\n",
       "53935   0.72      Ideal     D     SI1   60.8   57.0   2757  5.75  5.76  3.50\n",
       "53936   0.72       Good     D     SI1   63.1   55.0   2757  5.69  5.75  3.61\n",
       "53937   0.70  Very Good     D     SI1   62.8   60.0   2757  5.66  5.68  3.56\n",
       "53938   0.86    Premium     H     SI2   61.0   58.0   2757  6.15  6.12  3.74\n",
       "53939   0.75      Ideal     D     SI2   62.2   55.0   2757  5.83  5.87  3.64\n",
       "\n",
       "[53940 rows x 10 columns]"
      ]
     },
     "execution_count": 42,
     "metadata": {},
     "output_type": "execute_result"
    }
   ],
   "source": [
    "diamonds_data = diamonds_data.rename(columns={'Unnamed: 0': 'drop_me'})\n",
    "diamonds_data.drop(['index', 'drop_me'], axis=1)"
   ]
  },
  {
   "cell_type": "code",
   "execution_count": 43,
   "id": "14b0ad99-72e2-4364-9b06-aba641ce7901",
   "metadata": {},
   "outputs": [
    {
     "data": {
      "text/plain": [
       "(53940, 12)"
      ]
     },
     "execution_count": 43,
     "metadata": {},
     "output_type": "execute_result"
    }
   ],
   "source": [
    "diamonds_data.shape"
   ]
  },
  {
   "cell_type": "markdown",
   "id": "63305947-f97d-4818-a44a-3aecec98576a",
   "metadata": {},
   "source": [
    "# Подготовка данных:\n",
    "- Проверить адекватность колонок (нельзя использовать данные, которые нам будут недоступны в production)\n",
    "- Обработать пропуски в данных (модели обычно не принимают пропуски в данных)\n",
    "- Перевести категориальные значения в численные (модели обычно не принимают категориальные данные)"
   ]
  },
  {
   "cell_type": "code",
   "execution_count": 46,
   "id": "9714f92f-74e9-45e2-b162-ed13a9b24b66",
   "metadata": {},
   "outputs": [
    {
     "data": {
      "text/plain": [
       "index      0\n",
       "drop_me    0\n",
       "carat      0\n",
       "cut        0\n",
       "color      0\n",
       "clarity    0\n",
       "depth      0\n",
       "table      0\n",
       "price      0\n",
       "x          0\n",
       "y          0\n",
       "z          0\n",
       "dtype: int64"
      ]
     },
     "execution_count": 46,
     "metadata": {},
     "output_type": "execute_result"
    }
   ],
   "source": [
    "# Проверим наличие пропусков в данных\n",
    "diamonds_data.isna().sum()"
   ]
  },
  {
   "cell_type": "markdown",
   "id": "ff342cad-3be2-4f0c-8b9b-5e13a91488e8",
   "metadata": {
    "tags": []
   },
   "source": [
    "# Пропусков нет. Если бы были:\n",
    "## Пример: могли бы заполнить пропуски модой\n",
    "### df['color'].fillna(df['color'].mode()[0], inplace=True)"
   ]
  },
  {
   "cell_type": "markdown",
   "id": "82290130-b5cc-4acf-a613-1bf7d25adf21",
   "metadata": {},
   "source": [
    "# Находим категориальные колонки и используем LabelEncoder для перевода в численные значения"
   ]
  },
  {
   "cell_type": "code",
   "execution_count": 48,
   "id": "258e6e18-c833-4666-8165-6c944ba13bd6",
   "metadata": {},
   "outputs": [
    {
     "name": "stdout",
     "output_type": "stream",
     "text": [
      "<class 'pandas.core.frame.DataFrame'>\n",
      "RangeIndex: 53940 entries, 0 to 53939\n",
      "Data columns (total 12 columns):\n",
      " #   Column   Non-Null Count  Dtype  \n",
      "---  ------   --------------  -----  \n",
      " 0   index    53940 non-null  int64  \n",
      " 1   drop_me  53940 non-null  int64  \n",
      " 2   carat    53940 non-null  float64\n",
      " 3   cut      53940 non-null  object \n",
      " 4   color    53940 non-null  object \n",
      " 5   clarity  53940 non-null  object \n",
      " 6   depth    53940 non-null  float64\n",
      " 7   table    53940 non-null  float64\n",
      " 8   price    53940 non-null  int64  \n",
      " 9   x        53940 non-null  float64\n",
      " 10  y        53940 non-null  float64\n",
      " 11  z        53940 non-null  float64\n",
      "dtypes: float64(6), int64(3), object(3)\n",
      "memory usage: 4.9+ MB\n"
     ]
    }
   ],
   "source": [
    "diamonds_data.info()"
   ]
  },
  {
   "cell_type": "code",
   "execution_count": 49,
   "id": "485e8e57-9c4c-4d03-8140-86e4cf48d109",
   "metadata": {},
   "outputs": [],
   "source": [
    "from sklearn import preprocessing"
   ]
  },
  {
   "cell_type": "code",
   "execution_count": 51,
   "id": "6374a014-1d7e-42be-82fe-cd10a9b44d1e",
   "metadata": {},
   "outputs": [],
   "source": [
    "cat_columns = [name for name in diamonds_data.columns if diamonds_data[name].dtype == 'object']\n",
    "encoder = preprocessing.LabelEncoder()\n",
    "\n",
    "for col in cat_columns:\n",
    "    diamonds_data[col] = encoder.fit_transform(diamonds_data[col])"
   ]
  },
  {
   "cell_type": "code",
   "execution_count": 52,
   "id": "5659e4e8-c57d-44d1-8fae-aef668a104a0",
   "metadata": {},
   "outputs": [
    {
     "data": {
      "text/html": [
       "<div>\n",
       "<style scoped>\n",
       "    .dataframe tbody tr th:only-of-type {\n",
       "        vertical-align: middle;\n",
       "    }\n",
       "\n",
       "    .dataframe tbody tr th {\n",
       "        vertical-align: top;\n",
       "    }\n",
       "\n",
       "    .dataframe thead th {\n",
       "        text-align: right;\n",
       "    }\n",
       "</style>\n",
       "<table border=\"1\" class=\"dataframe\">\n",
       "  <thead>\n",
       "    <tr style=\"text-align: right;\">\n",
       "      <th></th>\n",
       "      <th>index</th>\n",
       "      <th>drop_me</th>\n",
       "      <th>carat</th>\n",
       "      <th>cut</th>\n",
       "      <th>color</th>\n",
       "      <th>clarity</th>\n",
       "      <th>depth</th>\n",
       "      <th>table</th>\n",
       "      <th>price</th>\n",
       "      <th>x</th>\n",
       "      <th>y</th>\n",
       "      <th>z</th>\n",
       "    </tr>\n",
       "  </thead>\n",
       "  <tbody>\n",
       "    <tr>\n",
       "      <th>0</th>\n",
       "      <td>0</td>\n",
       "      <td>1</td>\n",
       "      <td>0.23</td>\n",
       "      <td>2</td>\n",
       "      <td>1</td>\n",
       "      <td>3</td>\n",
       "      <td>61.5</td>\n",
       "      <td>55.0</td>\n",
       "      <td>326</td>\n",
       "      <td>3.95</td>\n",
       "      <td>3.98</td>\n",
       "      <td>2.43</td>\n",
       "    </tr>\n",
       "    <tr>\n",
       "      <th>1</th>\n",
       "      <td>1</td>\n",
       "      <td>2</td>\n",
       "      <td>0.21</td>\n",
       "      <td>3</td>\n",
       "      <td>1</td>\n",
       "      <td>2</td>\n",
       "      <td>59.8</td>\n",
       "      <td>61.0</td>\n",
       "      <td>326</td>\n",
       "      <td>3.89</td>\n",
       "      <td>3.84</td>\n",
       "      <td>2.31</td>\n",
       "    </tr>\n",
       "    <tr>\n",
       "      <th>2</th>\n",
       "      <td>2</td>\n",
       "      <td>3</td>\n",
       "      <td>0.23</td>\n",
       "      <td>1</td>\n",
       "      <td>1</td>\n",
       "      <td>4</td>\n",
       "      <td>56.9</td>\n",
       "      <td>65.0</td>\n",
       "      <td>327</td>\n",
       "      <td>4.05</td>\n",
       "      <td>4.07</td>\n",
       "      <td>2.31</td>\n",
       "    </tr>\n",
       "    <tr>\n",
       "      <th>3</th>\n",
       "      <td>3</td>\n",
       "      <td>4</td>\n",
       "      <td>0.29</td>\n",
       "      <td>3</td>\n",
       "      <td>5</td>\n",
       "      <td>5</td>\n",
       "      <td>62.4</td>\n",
       "      <td>58.0</td>\n",
       "      <td>334</td>\n",
       "      <td>4.20</td>\n",
       "      <td>4.23</td>\n",
       "      <td>2.63</td>\n",
       "    </tr>\n",
       "    <tr>\n",
       "      <th>4</th>\n",
       "      <td>4</td>\n",
       "      <td>5</td>\n",
       "      <td>0.31</td>\n",
       "      <td>1</td>\n",
       "      <td>6</td>\n",
       "      <td>3</td>\n",
       "      <td>63.3</td>\n",
       "      <td>58.0</td>\n",
       "      <td>335</td>\n",
       "      <td>4.34</td>\n",
       "      <td>4.35</td>\n",
       "      <td>2.75</td>\n",
       "    </tr>\n",
       "  </tbody>\n",
       "</table>\n",
       "</div>"
      ],
      "text/plain": [
       "   index  drop_me  carat  cut  color  clarity  depth  table  price     x  \\\n",
       "0      0        1   0.23    2      1        3   61.5   55.0    326  3.95   \n",
       "1      1        2   0.21    3      1        2   59.8   61.0    326  3.89   \n",
       "2      2        3   0.23    1      1        4   56.9   65.0    327  4.05   \n",
       "3      3        4   0.29    3      5        5   62.4   58.0    334  4.20   \n",
       "4      4        5   0.31    1      6        3   63.3   58.0    335  4.34   \n",
       "\n",
       "      y     z  \n",
       "0  3.98  2.43  \n",
       "1  3.84  2.31  \n",
       "2  4.07  2.31  \n",
       "3  4.23  2.63  \n",
       "4  4.35  2.75  "
      ]
     },
     "execution_count": 52,
     "metadata": {},
     "output_type": "execute_result"
    }
   ],
   "source": [
    "diamonds_data.head()"
   ]
  },
  {
   "cell_type": "markdown",
   "id": "4048b583-a7a6-48fd-b06c-fb55fbb48bfa",
   "metadata": {},
   "source": [
    "# Делим датасет на X и Y, затем выделяем часть для валидации"
   ]
  },
  {
   "cell_type": "code",
   "execution_count": 53,
   "id": "19aeb6e4-08ff-41af-9236-11ecde5fdc49",
   "metadata": {},
   "outputs": [],
   "source": [
    "from sklearn.model_selection import cross_val_score, train_test_split"
   ]
  },
  {
   "cell_type": "code",
   "execution_count": 54,
   "id": "ab2a1188-bab8-4b54-89c2-79dbfcd944f9",
   "metadata": {},
   "outputs": [],
   "source": [
    "X = diamonds_data.drop('price', axis=1)\n",
    "y = diamonds_data.price"
   ]
  },
  {
   "cell_type": "code",
   "execution_count": 55,
   "id": "5a01cf43-8c7f-4f84-9eb3-f07f1e37e665",
   "metadata": {},
   "outputs": [],
   "source": [
    "X_train, X_valid, y_train, y_valid = train_test_split(X, y, test_size=0.2, random_state=1)"
   ]
  },
  {
   "cell_type": "markdown",
   "id": "b0036b8c-0e27-44ba-ad52-7736c5e6f09b",
   "metadata": {},
   "source": [
    "# Обучение моделей"
   ]
  },
  {
   "cell_type": "code",
   "execution_count": 57,
   "id": "d76c743f-122c-414e-b68e-39ba87c4a231",
   "metadata": {},
   "outputs": [],
   "source": [
    "from sklearn.linear_model import LinearRegression\n",
    "from sklearn.model_selection import cross_val_score"
   ]
  },
  {
   "cell_type": "code",
   "execution_count": 74,
   "id": "db044091-c916-4529-a71e-5e8cf8b5b6ee",
   "metadata": {},
   "outputs": [],
   "source": [
    "# Linear Regression\n",
    "lr = LinearRegression()\n",
    "scores = cross_val_score(lr, X_train, y_train, cv=5, scoring='neg_mean_absolute_error')"
   ]
  },
  {
   "cell_type": "code",
   "execution_count": 75,
   "id": "53892c4e-5284-4714-ac8d-ceee6d879c75",
   "metadata": {},
   "outputs": [
    {
     "name": "stdout",
     "output_type": "stream",
     "text": [
      "Linear Regression cross validation MAE: 871.2157755998611\n"
     ]
    }
   ],
   "source": [
    "print('Linear Regression cross validation MAE:', - np.mean(scores))"
   ]
  },
  {
   "cell_type": "code",
   "execution_count": 76,
   "id": "5b0a0ac6-2702-46eb-a568-c1dfdab33161",
   "metadata": {},
   "outputs": [],
   "source": [
    "# Decision Tree \n",
    "from sklearn.tree import DecisionTreeRegressor"
   ]
  },
  {
   "cell_type": "code",
   "execution_count": 77,
   "id": "32f8a4eb-d47e-4c41-a46d-65afb2cc6e2b",
   "metadata": {},
   "outputs": [],
   "source": [
    "dt = DecisionTreeRegressor()\n",
    "dt_score = cross_val_score(dt, X_train, y_train, cv=5, scoring='neg_mean_absolute_error')"
   ]
  },
  {
   "cell_type": "code",
   "execution_count": 78,
   "id": "792b7b84-d82e-4f9e-8e22-926c662cfc99",
   "metadata": {},
   "outputs": [
    {
     "name": "stdout",
     "output_type": "stream",
     "text": [
      "Decision Tree cross validation MAE: 3.493118658080301\n"
     ]
    }
   ],
   "source": [
    "print('Decision Tree cross validation MAE:', - np.mean(dt_score))"
   ]
  },
  {
   "cell_type": "code",
   "execution_count": 79,
   "id": "18aaff3e-448b-4f8b-b3b5-83ba526be05c",
   "metadata": {},
   "outputs": [],
   "source": [
    "# Random Forest\n",
    "from sklearn.ensemble import RandomForestRegressor"
   ]
  },
  {
   "cell_type": "code",
   "execution_count": 80,
   "id": "44e8b508-5168-4c5d-bffd-d34f8c62b59b",
   "metadata": {},
   "outputs": [],
   "source": [
    "rf = RandomForestRegressor(random_state=0)"
   ]
  },
  {
   "cell_type": "code",
   "execution_count": 83,
   "id": "3b20d43f-11e5-4149-8071-3f50ce580b75",
   "metadata": {},
   "outputs": [],
   "source": [
    "rf_score = cross_val_score(rf, X_train, y_train, cv=3, scoring='neg_mean_absolute_error')"
   ]
  },
  {
   "cell_type": "code",
   "execution_count": 84,
   "id": "7bd1fa91-8391-4596-a304-3eae983333e6",
   "metadata": {},
   "outputs": [
    {
     "name": "stdout",
     "output_type": "stream",
     "text": [
      "Random forest cross validation MAE: 4.136985076010386\n"
     ]
    }
   ],
   "source": [
    "print('Random forest cross validation MAE:', - np.mean(rf_score))"
   ]
  },
  {
   "cell_type": "markdown",
   "id": "745d283c-f7e2-4098-b161-101bac805d83",
   "metadata": {},
   "source": [
    "# Подбор параметров и окончательный выбор модели\n",
    "## Выбираем Рандомный лес, так как ошибка меньше всего"
   ]
  },
  {
   "cell_type": "code",
   "execution_count": 89,
   "id": "0fb68f52-a11f-45d0-83e3-1682e08f24f0",
   "metadata": {},
   "outputs": [
    {
     "data": {
      "text/plain": [
       "RandomForestRegressor(random_state=0)"
      ]
     },
     "execution_count": 89,
     "metadata": {},
     "output_type": "execute_result"
    }
   ],
   "source": [
    "rf.fit(X_train, y_train)"
   ]
  },
  {
   "cell_type": "code",
   "execution_count": 90,
   "id": "f4d83dd7-f0f8-4dde-b36e-d162e2af44dc",
   "metadata": {},
   "outputs": [],
   "source": [
    "preds = rf.predict(X_valid)"
   ]
  },
  {
   "cell_type": "code",
   "execution_count": 92,
   "id": "c9fbfde2-86d0-4552-8e49-f7fd64536c01",
   "metadata": {},
   "outputs": [
    {
     "data": {
      "text/plain": [
       "array([ 563.99, 5913.99, 2561.82, ..., 2514.51, 6129.05, 1372.76])"
      ]
     },
     "execution_count": 92,
     "metadata": {},
     "output_type": "execute_result"
    }
   ],
   "source": [
    "preds"
   ]
  },
  {
   "cell_type": "code",
   "execution_count": 93,
   "id": "692f1da2-9f9b-4370-bd05-28374ae35473",
   "metadata": {},
   "outputs": [],
   "source": [
    "from sklearn.metrics import mean_absolute_error, mean_absolute_percentage_error"
   ]
  },
  {
   "cell_type": "code",
   "execution_count": 94,
   "id": "9e0bf5ee-385a-46b5-8818-d5a53c822f9e",
   "metadata": {},
   "outputs": [
    {
     "name": "stdout",
     "output_type": "stream",
     "text": [
      "MAPE: 0.37%\n",
      "MAE: 2.83\n"
     ]
    }
   ],
   "source": [
    "print(f'MAPE: {round(mean_absolute_percentage_error(y_valid, preds) * 100, 2)}%')\n",
    "print(f'MAE: {round(mean_absolute_error(y_valid, preds), 2)}')"
   ]
  },
  {
   "cell_type": "code",
   "execution_count": 98,
   "id": "a5eff9ba-56c2-45c7-a870-2d7e3ecdea18",
   "metadata": {},
   "outputs": [
    {
     "data": {
      "text/html": [
       "<div>\n",
       "<style scoped>\n",
       "    .dataframe tbody tr th:only-of-type {\n",
       "        vertical-align: middle;\n",
       "    }\n",
       "\n",
       "    .dataframe tbody tr th {\n",
       "        vertical-align: top;\n",
       "    }\n",
       "\n",
       "    .dataframe thead th {\n",
       "        text-align: right;\n",
       "    }\n",
       "</style>\n",
       "<table border=\"1\" class=\"dataframe\">\n",
       "  <thead>\n",
       "    <tr style=\"text-align: right;\">\n",
       "      <th></th>\n",
       "      <th>Prediction</th>\n",
       "      <th>Actual</th>\n",
       "    </tr>\n",
       "  </thead>\n",
       "  <tbody>\n",
       "    <tr>\n",
       "      <th>0</th>\n",
       "      <td>564.0</td>\n",
       "      <td>564</td>\n",
       "    </tr>\n",
       "    <tr>\n",
       "      <th>1</th>\n",
       "      <td>5914.0</td>\n",
       "      <td>5914</td>\n",
       "    </tr>\n",
       "    <tr>\n",
       "      <th>2</th>\n",
       "      <td>2562.0</td>\n",
       "      <td>2562</td>\n",
       "    </tr>\n",
       "    <tr>\n",
       "      <th>3</th>\n",
       "      <td>537.0</td>\n",
       "      <td>537</td>\n",
       "    </tr>\n",
       "    <tr>\n",
       "      <th>4</th>\n",
       "      <td>5964.0</td>\n",
       "      <td>5964</td>\n",
       "    </tr>\n",
       "    <tr>\n",
       "      <th>5</th>\n",
       "      <td>984.0</td>\n",
       "      <td>984</td>\n",
       "    </tr>\n",
       "    <tr>\n",
       "      <th>6</th>\n",
       "      <td>5247.0</td>\n",
       "      <td>5247</td>\n",
       "    </tr>\n",
       "    <tr>\n",
       "      <th>7</th>\n",
       "      <td>611.0</td>\n",
       "      <td>611</td>\n",
       "    </tr>\n",
       "    <tr>\n",
       "      <th>8</th>\n",
       "      <td>9644.0</td>\n",
       "      <td>9645</td>\n",
       "    </tr>\n",
       "    <tr>\n",
       "      <th>9</th>\n",
       "      <td>1165.0</td>\n",
       "      <td>1162</td>\n",
       "    </tr>\n",
       "    <tr>\n",
       "      <th>10</th>\n",
       "      <td>710.0</td>\n",
       "      <td>710</td>\n",
       "    </tr>\n",
       "    <tr>\n",
       "      <th>11</th>\n",
       "      <td>1574.0</td>\n",
       "      <td>1574</td>\n",
       "    </tr>\n",
       "    <tr>\n",
       "      <th>12</th>\n",
       "      <td>1663.0</td>\n",
       "      <td>1662</td>\n",
       "    </tr>\n",
       "    <tr>\n",
       "      <th>13</th>\n",
       "      <td>770.0</td>\n",
       "      <td>787</td>\n",
       "    </tr>\n",
       "    <tr>\n",
       "      <th>14</th>\n",
       "      <td>773.0</td>\n",
       "      <td>487</td>\n",
       "    </tr>\n",
       "  </tbody>\n",
       "</table>\n",
       "</div>"
      ],
      "text/plain": [
       "    Prediction  Actual\n",
       "0        564.0     564\n",
       "1       5914.0    5914\n",
       "2       2562.0    2562\n",
       "3        537.0     537\n",
       "4       5964.0    5964\n",
       "5        984.0     984\n",
       "6       5247.0    5247\n",
       "7        611.0     611\n",
       "8       9644.0    9645\n",
       "9       1165.0    1162\n",
       "10       710.0     710\n",
       "11      1574.0    1574\n",
       "12      1663.0    1662\n",
       "13       770.0     787\n",
       "14       773.0     487"
      ]
     },
     "execution_count": 98,
     "metadata": {},
     "output_type": "execute_result"
    }
   ],
   "source": [
    "results = pd.DataFrame({'Prediction': np.round(preds, 0), 'Actual': y_valid})\n",
    "results = results.reset_index().drop('index', axis=1)\n",
    "results.head(15)"
   ]
  },
  {
   "cell_type": "markdown",
   "id": "e291b459-f9bf-4611-948d-c4f18d1b2e12",
   "metadata": {},
   "source": [
    "## Визуализация результатов "
   ]
  },
  {
   "cell_type": "code",
   "execution_count": 102,
   "id": "4f4e7af9-cfe0-4b6d-9788-24de537d34e4",
   "metadata": {},
   "outputs": [],
   "source": [
    "import matplotlib.pyplot as plt"
   ]
  },
  {
   "cell_type": "code",
   "execution_count": 106,
   "id": "a280ffb6-01b8-421a-a030-37d6ff72d056",
   "metadata": {},
   "outputs": [
    {
     "name": "stderr",
     "output_type": "stream",
     "text": [
      "/usr/lib/python3/dist-packages/matplotlib/cbook/__init__.py:1402: FutureWarning: Support for multi-dimensional indexing (e.g. `obj[:, None]`) is deprecated and will be removed in a future version.  Convert to a numpy array before indexing instead.\n",
      "  ndim = x[:, None].ndim\n",
      "/usr/lib/python3/dist-packages/matplotlib/axes/_base.py:278: FutureWarning: Support for multi-dimensional indexing (e.g. `obj[:, None]`) is deprecated and will be removed in a future version.  Convert to a numpy array before indexing instead.\n",
      "  y = y[:, np.newaxis]\n"
     ]
    },
    {
     "data": {
      "text/plain": [
       "<Figure size 864x504 with 0 Axes>"
      ]
     },
     "metadata": {},
     "output_type": "display_data"
    },
    {
     "data": {
      "image/png": "[encoded data removed]",
      "text/plain": [
       "<Figure size 432x288 with 2 Axes>"
      ]
     },
     "metadata": {
      "needs_background": "light"
     },
     "output_type": "display_data"
    }
   ],
   "source": [
    "plt.figure(figsize=(12,7))\n",
    "fig, ax = plt.subplots(2)\n",
    "\n",
    "# Call plot() method on the appropriate object\n",
    "ax[0].plot(results, results.Prediction)\n",
    "ax[1].plot(results, results.Actual);"
   ]
  },
  {
   "cell_type": "markdown",
   "id": "39681f98-490b-4b8a-951d-e0269a01f4f9",
   "metadata": {},
   "source": [
    "## C'est tout ^^"
   ]
  }
 ],
 "metadata": {
  "kernelspec": {
   "display_name": "Python 3 (ipykernel)",
   "language": "python",
   "name": "python3"
  },
  "language_info": {
   "codemirror_mode": {
    "name": "ipython",
    "version": 3
   },
   "file_extension": ".py",
   "mimetype": "text/x-python",
   "name": "python",
   "nbconvert_exporter": "python",
   "pygments_lexer": "ipython3",
   "version": "3.8.10"
  }
 },
 "nbformat": 4,
 "nbformat_minor": 5
}
